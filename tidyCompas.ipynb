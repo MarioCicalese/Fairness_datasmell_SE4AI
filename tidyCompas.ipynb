{
 "cells": [
  {
   "cell_type": "code",
   "execution_count": 162,
   "metadata": {},
   "outputs": [],
   "source": [
    "import pandas as pd\n",
    "import numpy as np\n",
    "from sklearn.tree import DecisionTreeClassifier\n",
    "from sklearn.svm import SVC\n",
    "from sklearn.ensemble import RandomForestClassifier\n",
    "from sklearn.pipeline import make_pipeline\n",
    "from sklearn.preprocessing import StandardScaler\n",
    "from sklearn.metrics import accuracy_score, recall_score, f1_score\n",
    "from aif360.datasets import BinaryLabelDataset\n",
    "from aif360.metrics import ClassificationMetric\n",
    "from sklearn.model_selection import train_test_split\n",
    "from sklearn.preprocessing import MinMaxScaler"
   ]
  },
  {
   "cell_type": "code",
   "execution_count": 163,
   "metadata": {},
   "outputs": [],
   "source": [
    "def compute_performance_metrics(y_test, y_pred, model_name):\n",
    "    accuracy = accuracy_score(y_test, y_pred)\n",
    "    recall = recall_score(y_test, y_pred)\n",
    "    f1_score_value = f1_score(y_test, y_pred)\n",
    "    print(f\"{model_name} Accuracy: {accuracy}\")\n",
    "    print(f\"{model_name} Recall: {recall}\")\n",
    "    print(f\"{model_name} F1 Score: {f1_score_value}\")\n",
    "\n",
    "def compute_classification_metric(dataset,predictions, label_name_v, favorable_label_v, unfavorable_label_v, privileged_attribute, unprivileged_attribute):\n",
    "    features = [privileged_attribute] + unprivileged_attribute # We want to check the fairness level regarding the protected attribute \"sex\"\n",
    "\n",
    "    # This is the object made of the original dataset\n",
    "    aif_sex_dataset = BinaryLabelDataset( # Base class for all structured datasets with binary labels.\n",
    "            df=dataset,\n",
    "            favorable_label=favorable_label_v, # This means that a prediction is biased toward the privileged attribute if its value is 1 (True)\n",
    "            unfavorable_label=unfavorable_label_v,\n",
    "            label_names=[label_name_v],\n",
    "            protected_attribute_names=features,\n",
    "            privileged_protected_attributes=[privileged_attribute], # here we tell AIF that we want to check for predictions\n",
    "        )\n",
    "\n",
    "    # We do the same thing but with the predictions dataset\n",
    "    aif_sex_pred = BinaryLabelDataset(\n",
    "            df=predictions,\n",
    "            favorable_label=favorable_label_v,\n",
    "            unfavorable_label=unfavorable_label_v,\n",
    "            label_names=[label_name_v],\n",
    "            protected_attribute_names=features,\n",
    "            privileged_protected_attributes=[privileged_attribute],\n",
    "        )\n",
    "\n",
    "    sex_privileged_group = [{privileged_attribute: 1, **{attr: 0 for attr in unprivileged_attribute}}]\n",
    "    sex_unprivileged_group = [{attr: 1, privileged_attribute: 0} for attr in unprivileged_attribute]\n",
    "\n",
    "    # We provide the ClassificationMetric object with all the information needed:\n",
    "    # aif_sex_dataset - The original test set\n",
    "    # aif_sex_pred - A dataset containing the predictions of the model\n",
    "    # sex_privileged_group - The privileged group\n",
    "    # sex_unprivileged_group - The unprivileged group\n",
    "    fairness_metrics = ClassificationMetric(dataset=aif_sex_dataset,\n",
    "                            classified_dataset=aif_sex_pred,\n",
    "                            unprivileged_groups=sex_unprivileged_group,\n",
    "                            privileged_groups=sex_privileged_group)\n",
    "    \n",
    "    return fairness_metrics\n",
    "\n",
    "def compute_fairness_metrics(fairness_metrics: ClassificationMetric):\n",
    "    # Values less than 0 indicate that privileged group has higher\n",
    "    # proportion of predicted positive outcomes than unprivileged group.\n",
    "    # Value higher than 0 indicates that unprivileged group has higher proportion\n",
    "    # of predicted positive outcomes than privileged group.\n",
    "    SPD = round(fairness_metrics.statistical_parity_difference(),3)\n",
    "\n",
    "    # Measures the deviation from the equality of opportunity, which means that the same\n",
    "    # proportion of each population receives the favorable outcome. This measure must be equal to 0 to be fair.\n",
    "    EOD = round(fairness_metrics.equal_opportunity_difference(),3)\n",
    "\n",
    "    # Average of difference in False Positive Rate and True Positive Rate for unprivileged and privileged groups\n",
    "    # A value of 0 indicates equality of odds, which means that samples in both the privileged and unprivileged\n",
    "    # groups have the same probability of being classified positively.\n",
    "    AOD = round(fairness_metrics.average_odds_difference(),3)\n",
    "\n",
    "    print(f\"Statistical Parity Difference (SPD): {SPD}\")\n",
    "    print(f\"Average Odds Difference (AOD): {AOD}\")\n",
    "    print(f\"Equal Opportunity Difference (EOD): {EOD}\")"
   ]
  },
  {
   "cell_type": "code",
   "execution_count": 164,
   "metadata": {},
   "outputs": [],
   "source": [
    "dataset_path = 'dataset/compas-scores2.csv'\n",
    "df_raw = pd.read_csv(dataset_path) \n",
    "\n",
    "pd.set_option('display.max_columns', None)"
   ]
  },
  {
   "cell_type": "code",
   "execution_count": 165,
   "metadata": {},
   "outputs": [
    {
     "data": {
      "text/plain": [
       "(11757, 17)"
      ]
     },
     "execution_count": 165,
     "metadata": {},
     "output_type": "execute_result"
    }
   ],
   "source": [
    "df_raw.shape"
   ]
  },
  {
   "cell_type": "code",
   "execution_count": 166,
   "metadata": {},
   "outputs": [
    {
     "data": {
      "text/plain": [
       "Index(['sex', 'age', 'age_cat', 'race', 'juv_fel_count', 'decile_score',\n",
       "       'juv_misd_count', 'juv_other_count', 'priors_count',\n",
       "       'days_b_screening_arrest', 'c_jail_in', 'c_jail_out', 'c_offense_date',\n",
       "       'c_days_from_compas', 'c_charge_degree', 'c_charge_desc', 'is_recid'],\n",
       "      dtype='object')"
      ]
     },
     "execution_count": 166,
     "metadata": {},
     "output_type": "execute_result"
    }
   ],
   "source": [
    "df_raw.columns"
   ]
  },
  {
   "cell_type": "code",
   "execution_count": 167,
   "metadata": {},
   "outputs": [
    {
     "name": "stdout",
     "output_type": "stream",
     "text": [
      "<class 'pandas.core.frame.DataFrame'>\n",
      "RangeIndex: 11757 entries, 0 to 11756\n",
      "Data columns (total 17 columns):\n",
      " #   Column                   Non-Null Count  Dtype  \n",
      "---  ------                   --------------  -----  \n",
      " 0   sex                      11757 non-null  object \n",
      " 1   age                      11757 non-null  int64  \n",
      " 2   age_cat                  11757 non-null  object \n",
      " 3   race                     11757 non-null  object \n",
      " 4   juv_fel_count            11757 non-null  int64  \n",
      " 5   decile_score             11757 non-null  int64  \n",
      " 6   juv_misd_count           11757 non-null  int64  \n",
      " 7   juv_other_count          11757 non-null  int64  \n",
      " 8   priors_count             11757 non-null  int64  \n",
      " 9   days_b_screening_arrest  10577 non-null  float64\n",
      " 10  c_jail_in                10577 non-null  object \n",
      " 11  c_jail_out               10577 non-null  object \n",
      " 12  c_offense_date           9157 non-null   object \n",
      " 13  c_days_from_compas       11015 non-null  float64\n",
      " 14  c_charge_degree          11757 non-null  object \n",
      " 15  c_charge_desc            11008 non-null  object \n",
      " 16  is_recid                 11757 non-null  int64  \n",
      "dtypes: float64(2), int64(7), object(8)\n",
      "memory usage: 1.5+ MB\n"
     ]
    }
   ],
   "source": [
    "df_raw.info()"
   ]
  },
  {
   "cell_type": "code",
   "execution_count": 168,
   "metadata": {},
   "outputs": [
    {
     "data": {
      "text/html": [
       "<div>\n",
       "<style scoped>\n",
       "    .dataframe tbody tr th:only-of-type {\n",
       "        vertical-align: middle;\n",
       "    }\n",
       "\n",
       "    .dataframe tbody tr th {\n",
       "        vertical-align: top;\n",
       "    }\n",
       "\n",
       "    .dataframe thead th {\n",
       "        text-align: right;\n",
       "    }\n",
       "</style>\n",
       "<table border=\"1\" class=\"dataframe\">\n",
       "  <thead>\n",
       "    <tr style=\"text-align: right;\">\n",
       "      <th></th>\n",
       "      <th>age</th>\n",
       "      <th>juv_fel_count</th>\n",
       "      <th>decile_score</th>\n",
       "      <th>juv_misd_count</th>\n",
       "      <th>juv_other_count</th>\n",
       "      <th>priors_count</th>\n",
       "      <th>days_b_screening_arrest</th>\n",
       "      <th>c_days_from_compas</th>\n",
       "      <th>is_recid</th>\n",
       "    </tr>\n",
       "  </thead>\n",
       "  <tbody>\n",
       "    <tr>\n",
       "      <th>count</th>\n",
       "      <td>11757.000000</td>\n",
       "      <td>11757.000000</td>\n",
       "      <td>11757.000000</td>\n",
       "      <td>11757.000000</td>\n",
       "      <td>11757.000000</td>\n",
       "      <td>11757.000000</td>\n",
       "      <td>10577.000000</td>\n",
       "      <td>11015.000000</td>\n",
       "      <td>11757.000000</td>\n",
       "    </tr>\n",
       "    <tr>\n",
       "      <th>mean</th>\n",
       "      <td>35.143319</td>\n",
       "      <td>0.061580</td>\n",
       "      <td>4.371268</td>\n",
       "      <td>0.076040</td>\n",
       "      <td>0.093561</td>\n",
       "      <td>3.082164</td>\n",
       "      <td>-0.878037</td>\n",
       "      <td>63.587653</td>\n",
       "      <td>0.253806</td>\n",
       "    </tr>\n",
       "    <tr>\n",
       "      <th>std</th>\n",
       "      <td>12.022894</td>\n",
       "      <td>0.445328</td>\n",
       "      <td>2.877598</td>\n",
       "      <td>0.449757</td>\n",
       "      <td>0.472003</td>\n",
       "      <td>4.687410</td>\n",
       "      <td>72.889298</td>\n",
       "      <td>341.899711</td>\n",
       "      <td>0.558324</td>\n",
       "    </tr>\n",
       "    <tr>\n",
       "      <th>min</th>\n",
       "      <td>18.000000</td>\n",
       "      <td>0.000000</td>\n",
       "      <td>-1.000000</td>\n",
       "      <td>0.000000</td>\n",
       "      <td>0.000000</td>\n",
       "      <td>0.000000</td>\n",
       "      <td>-597.000000</td>\n",
       "      <td>0.000000</td>\n",
       "      <td>-1.000000</td>\n",
       "    </tr>\n",
       "    <tr>\n",
       "      <th>25%</th>\n",
       "      <td>25.000000</td>\n",
       "      <td>0.000000</td>\n",
       "      <td>2.000000</td>\n",
       "      <td>0.000000</td>\n",
       "      <td>0.000000</td>\n",
       "      <td>0.000000</td>\n",
       "      <td>-1.000000</td>\n",
       "      <td>1.000000</td>\n",
       "      <td>0.000000</td>\n",
       "    </tr>\n",
       "    <tr>\n",
       "      <th>50%</th>\n",
       "      <td>32.000000</td>\n",
       "      <td>0.000000</td>\n",
       "      <td>4.000000</td>\n",
       "      <td>0.000000</td>\n",
       "      <td>0.000000</td>\n",
       "      <td>1.000000</td>\n",
       "      <td>-1.000000</td>\n",
       "      <td>1.000000</td>\n",
       "      <td>0.000000</td>\n",
       "    </tr>\n",
       "    <tr>\n",
       "      <th>75%</th>\n",
       "      <td>43.000000</td>\n",
       "      <td>0.000000</td>\n",
       "      <td>7.000000</td>\n",
       "      <td>0.000000</td>\n",
       "      <td>0.000000</td>\n",
       "      <td>4.000000</td>\n",
       "      <td>-1.000000</td>\n",
       "      <td>2.000000</td>\n",
       "      <td>1.000000</td>\n",
       "    </tr>\n",
       "    <tr>\n",
       "      <th>max</th>\n",
       "      <td>96.000000</td>\n",
       "      <td>20.000000</td>\n",
       "      <td>10.000000</td>\n",
       "      <td>13.000000</td>\n",
       "      <td>17.000000</td>\n",
       "      <td>43.000000</td>\n",
       "      <td>1057.000000</td>\n",
       "      <td>9485.000000</td>\n",
       "      <td>1.000000</td>\n",
       "    </tr>\n",
       "  </tbody>\n",
       "</table>\n",
       "</div>"
      ],
      "text/plain": [
       "                age  juv_fel_count  decile_score  juv_misd_count  \\\n",
       "count  11757.000000   11757.000000  11757.000000    11757.000000   \n",
       "mean      35.143319       0.061580      4.371268        0.076040   \n",
       "std       12.022894       0.445328      2.877598        0.449757   \n",
       "min       18.000000       0.000000     -1.000000        0.000000   \n",
       "25%       25.000000       0.000000      2.000000        0.000000   \n",
       "50%       32.000000       0.000000      4.000000        0.000000   \n",
       "75%       43.000000       0.000000      7.000000        0.000000   \n",
       "max       96.000000      20.000000     10.000000       13.000000   \n",
       "\n",
       "       juv_other_count  priors_count  days_b_screening_arrest  \\\n",
       "count     11757.000000  11757.000000             10577.000000   \n",
       "mean          0.093561      3.082164                -0.878037   \n",
       "std           0.472003      4.687410                72.889298   \n",
       "min           0.000000      0.000000              -597.000000   \n",
       "25%           0.000000      0.000000                -1.000000   \n",
       "50%           0.000000      1.000000                -1.000000   \n",
       "75%           0.000000      4.000000                -1.000000   \n",
       "max          17.000000     43.000000              1057.000000   \n",
       "\n",
       "       c_days_from_compas      is_recid  \n",
       "count        11015.000000  11757.000000  \n",
       "mean            63.587653      0.253806  \n",
       "std            341.899711      0.558324  \n",
       "min              0.000000     -1.000000  \n",
       "25%              1.000000      0.000000  \n",
       "50%              1.000000      0.000000  \n",
       "75%              2.000000      1.000000  \n",
       "max           9485.000000      1.000000  "
      ]
     },
     "execution_count": 168,
     "metadata": {},
     "output_type": "execute_result"
    }
   ],
   "source": [
    "df_raw.describe()"
   ]
  },
  {
   "cell_type": "code",
   "execution_count": 169,
   "metadata": {},
   "outputs": [
    {
     "data": {
      "text/html": [
       "<div>\n",
       "<style scoped>\n",
       "    .dataframe tbody tr th:only-of-type {\n",
       "        vertical-align: middle;\n",
       "    }\n",
       "\n",
       "    .dataframe tbody tr th {\n",
       "        vertical-align: top;\n",
       "    }\n",
       "\n",
       "    .dataframe thead th {\n",
       "        text-align: right;\n",
       "    }\n",
       "</style>\n",
       "<table border=\"1\" class=\"dataframe\">\n",
       "  <thead>\n",
       "    <tr style=\"text-align: right;\">\n",
       "      <th></th>\n",
       "      <th>sex</th>\n",
       "      <th>age_cat</th>\n",
       "      <th>race</th>\n",
       "      <th>c_jail_in</th>\n",
       "      <th>c_jail_out</th>\n",
       "      <th>c_offense_date</th>\n",
       "      <th>c_charge_degree</th>\n",
       "      <th>c_charge_desc</th>\n",
       "    </tr>\n",
       "  </thead>\n",
       "  <tbody>\n",
       "    <tr>\n",
       "      <th>count</th>\n",
       "      <td>11757</td>\n",
       "      <td>11757</td>\n",
       "      <td>11757</td>\n",
       "      <td>10577</td>\n",
       "      <td>10577</td>\n",
       "      <td>9157</td>\n",
       "      <td>11757</td>\n",
       "      <td>11008</td>\n",
       "    </tr>\n",
       "    <tr>\n",
       "      <th>unique</th>\n",
       "      <td>2</td>\n",
       "      <td>3</td>\n",
       "      <td>6</td>\n",
       "      <td>10577</td>\n",
       "      <td>10517</td>\n",
       "      <td>1036</td>\n",
       "      <td>3</td>\n",
       "      <td>531</td>\n",
       "    </tr>\n",
       "    <tr>\n",
       "      <th>top</th>\n",
       "      <td>Male</td>\n",
       "      <td>25 - 45</td>\n",
       "      <td>African-American</td>\n",
       "      <td>2013-08-13 06:03:42</td>\n",
       "      <td>2014-02-12 10:41:00</td>\n",
       "      <td>2013-03-20</td>\n",
       "      <td>F</td>\n",
       "      <td>arrest case no charge</td>\n",
       "    </tr>\n",
       "    <tr>\n",
       "      <th>freq</th>\n",
       "      <td>9336</td>\n",
       "      <td>6649</td>\n",
       "      <td>5813</td>\n",
       "      <td>1</td>\n",
       "      <td>4</td>\n",
       "      <td>29</td>\n",
       "      <td>7232</td>\n",
       "      <td>1858</td>\n",
       "    </tr>\n",
       "  </tbody>\n",
       "</table>\n",
       "</div>"
      ],
      "text/plain": [
       "          sex  age_cat              race            c_jail_in  \\\n",
       "count   11757    11757             11757                10577   \n",
       "unique      2        3                 6                10577   \n",
       "top      Male  25 - 45  African-American  2013-08-13 06:03:42   \n",
       "freq     9336     6649              5813                    1   \n",
       "\n",
       "                 c_jail_out c_offense_date c_charge_degree  \\\n",
       "count                 10577           9157           11757   \n",
       "unique                10517           1036               3   \n",
       "top     2014-02-12 10:41:00     2013-03-20               F   \n",
       "freq                      4             29            7232   \n",
       "\n",
       "                c_charge_desc  \n",
       "count                   11008  \n",
       "unique                    531  \n",
       "top     arrest case no charge  \n",
       "freq                     1858  "
      ]
     },
     "execution_count": 169,
     "metadata": {},
     "output_type": "execute_result"
    }
   ],
   "source": [
    "df_raw.describe(include='O')"
   ]
  },
  {
   "cell_type": "markdown",
   "metadata": {},
   "source": [
    "LET'S START WITH DATA CLEANING STEP"
   ]
  },
  {
   "cell_type": "code",
   "execution_count": 170,
   "metadata": {},
   "outputs": [
    {
     "data": {
      "text/plain": [
       "sex                           0\n",
       "age                           0\n",
       "age_cat                       0\n",
       "race                          0\n",
       "juv_fel_count                 0\n",
       "decile_score                  0\n",
       "juv_misd_count                0\n",
       "juv_other_count               0\n",
       "priors_count                  0\n",
       "days_b_screening_arrest    1180\n",
       "c_jail_in                  1180\n",
       "c_jail_out                 1180\n",
       "c_offense_date             2600\n",
       "c_days_from_compas          742\n",
       "c_charge_degree               0\n",
       "c_charge_desc               749\n",
       "is_recid                      0\n",
       "dtype: int64"
      ]
     },
     "execution_count": 170,
     "metadata": {},
     "output_type": "execute_result"
    }
   ],
   "source": [
    "#Let's check wether there are null values\n",
    "df_raw.isnull().sum()"
   ]
  },
  {
   "cell_type": "markdown",
   "metadata": {},
   "source": [
    "c_jail_in and c_jail_out attributes indicating dates when the defendant was booked into jail and released. Thus, this two attributes reprent how much time the defendant spent in jail, so we assume that these two features are relevant for the domain. So we decide to apply a data imputation tecnique. However, statistical operator can only be applied on numeric values, in that case, we have dates. So, rather than considering the dates we could consider how much days the defendant spend in the jail (c_jail_out - c_jail_out). By doing this, we will have a integer feature where we can apply the mean operator to replace the missing values. "
   ]
  },
  {
   "cell_type": "code",
   "execution_count": 171,
   "metadata": {},
   "outputs": [],
   "source": [
    "# We first convert the date formate into one that Pandas can handle\n",
    "df_raw['c_jail_in'] = pd.to_datetime(df_raw['c_jail_in'])\n",
    "df_raw['c_jail_out'] = pd.to_datetime(df_raw['c_jail_out'])\n",
    "\n",
    "# Then, we calculate time in jail in days\n",
    "df_raw['time_in_jail'] = (df_raw['c_jail_out'] - df_raw['c_jail_in']).dt.days"
   ]
  },
  {
   "cell_type": "code",
   "execution_count": 172,
   "metadata": {},
   "outputs": [
    {
     "data": {
      "text/html": [
       "<div>\n",
       "<style scoped>\n",
       "    .dataframe tbody tr th:only-of-type {\n",
       "        vertical-align: middle;\n",
       "    }\n",
       "\n",
       "    .dataframe tbody tr th {\n",
       "        vertical-align: top;\n",
       "    }\n",
       "\n",
       "    .dataframe thead th {\n",
       "        text-align: right;\n",
       "    }\n",
       "</style>\n",
       "<table border=\"1\" class=\"dataframe\">\n",
       "  <thead>\n",
       "    <tr style=\"text-align: right;\">\n",
       "      <th></th>\n",
       "      <th>c_jail_in</th>\n",
       "      <th>c_jail_out</th>\n",
       "      <th>time_in_jail</th>\n",
       "    </tr>\n",
       "  </thead>\n",
       "  <tbody>\n",
       "    <tr>\n",
       "      <th>0</th>\n",
       "      <td>2013-08-13 06:03:42</td>\n",
       "      <td>2013-08-14 05:41:20</td>\n",
       "      <td>0.0</td>\n",
       "    </tr>\n",
       "    <tr>\n",
       "      <th>1</th>\n",
       "      <td>NaT</td>\n",
       "      <td>NaT</td>\n",
       "      <td>NaN</td>\n",
       "    </tr>\n",
       "    <tr>\n",
       "      <th>2</th>\n",
       "      <td>2013-01-26 03:45:27</td>\n",
       "      <td>2013-02-05 05:36:53</td>\n",
       "      <td>10.0</td>\n",
       "    </tr>\n",
       "    <tr>\n",
       "      <th>3</th>\n",
       "      <td>2013-04-13 04:58:34</td>\n",
       "      <td>2013-04-14 07:02:04</td>\n",
       "      <td>1.0</td>\n",
       "    </tr>\n",
       "    <tr>\n",
       "      <th>4</th>\n",
       "      <td>NaT</td>\n",
       "      <td>NaT</td>\n",
       "      <td>NaN</td>\n",
       "    </tr>\n",
       "    <tr>\n",
       "      <th>...</th>\n",
       "      <td>...</td>\n",
       "      <td>...</td>\n",
       "      <td>...</td>\n",
       "    </tr>\n",
       "    <tr>\n",
       "      <th>11752</th>\n",
       "      <td>2013-09-21 04:06:00</td>\n",
       "      <td>2013-09-22 08:16:13</td>\n",
       "      <td>1.0</td>\n",
       "    </tr>\n",
       "    <tr>\n",
       "      <th>11753</th>\n",
       "      <td>2013-05-16 08:58:35</td>\n",
       "      <td>2013-05-18 07:59:30</td>\n",
       "      <td>1.0</td>\n",
       "    </tr>\n",
       "    <tr>\n",
       "      <th>11754</th>\n",
       "      <td>NaT</td>\n",
       "      <td>NaT</td>\n",
       "      <td>NaN</td>\n",
       "    </tr>\n",
       "    <tr>\n",
       "      <th>11755</th>\n",
       "      <td>2013-05-21 03:12:58</td>\n",
       "      <td>2013-05-22 09:04:20</td>\n",
       "      <td>1.0</td>\n",
       "    </tr>\n",
       "    <tr>\n",
       "      <th>11756</th>\n",
       "      <td>2014-01-10 06:49:02</td>\n",
       "      <td>2014-01-11 01:45:55</td>\n",
       "      <td>0.0</td>\n",
       "    </tr>\n",
       "  </tbody>\n",
       "</table>\n",
       "<p>11757 rows × 3 columns</p>\n",
       "</div>"
      ],
      "text/plain": [
       "                c_jail_in          c_jail_out  time_in_jail\n",
       "0     2013-08-13 06:03:42 2013-08-14 05:41:20           0.0\n",
       "1                     NaT                 NaT           NaN\n",
       "2     2013-01-26 03:45:27 2013-02-05 05:36:53          10.0\n",
       "3     2013-04-13 04:58:34 2013-04-14 07:02:04           1.0\n",
       "4                     NaT                 NaT           NaN\n",
       "...                   ...                 ...           ...\n",
       "11752 2013-09-21 04:06:00 2013-09-22 08:16:13           1.0\n",
       "11753 2013-05-16 08:58:35 2013-05-18 07:59:30           1.0\n",
       "11754                 NaT                 NaT           NaN\n",
       "11755 2013-05-21 03:12:58 2013-05-22 09:04:20           1.0\n",
       "11756 2014-01-10 06:49:02 2014-01-11 01:45:55           0.0\n",
       "\n",
       "[11757 rows x 3 columns]"
      ]
     },
     "execution_count": 172,
     "metadata": {},
     "output_type": "execute_result"
    }
   ],
   "source": [
    "#if the c_jail_in and c_jail_out have a missing values, then the time_in_jail value is mapped as NaN too.\n",
    "\n",
    "df_raw[['c_jail_in', 'c_jail_out', 'time_in_jail']]"
   ]
  },
  {
   "cell_type": "code",
   "execution_count": 173,
   "metadata": {},
   "outputs": [
    {
     "name": "stdout",
     "output_type": "stream",
     "text": [
      "25\n"
     ]
    }
   ],
   "source": [
    "#Let's calculate the average number of days and assign it to the rows that have NaN values\n",
    "\n",
    "mean_time_in_jail = round(df_raw['time_in_jail'].mean())\n",
    "print(mean_time_in_jail)"
   ]
  },
  {
   "cell_type": "code",
   "execution_count": 174,
   "metadata": {},
   "outputs": [
    {
     "data": {
      "text/html": [
       "<div>\n",
       "<style scoped>\n",
       "    .dataframe tbody tr th:only-of-type {\n",
       "        vertical-align: middle;\n",
       "    }\n",
       "\n",
       "    .dataframe tbody tr th {\n",
       "        vertical-align: top;\n",
       "    }\n",
       "\n",
       "    .dataframe thead th {\n",
       "        text-align: right;\n",
       "    }\n",
       "</style>\n",
       "<table border=\"1\" class=\"dataframe\">\n",
       "  <thead>\n",
       "    <tr style=\"text-align: right;\">\n",
       "      <th></th>\n",
       "      <th>c_jail_in</th>\n",
       "      <th>c_jail_out</th>\n",
       "      <th>time_in_jail</th>\n",
       "    </tr>\n",
       "  </thead>\n",
       "  <tbody>\n",
       "    <tr>\n",
       "      <th>0</th>\n",
       "      <td>2013-08-13 06:03:42</td>\n",
       "      <td>2013-08-14 05:41:20</td>\n",
       "      <td>0.0</td>\n",
       "    </tr>\n",
       "    <tr>\n",
       "      <th>1</th>\n",
       "      <td>NaT</td>\n",
       "      <td>NaT</td>\n",
       "      <td>25.0</td>\n",
       "    </tr>\n",
       "    <tr>\n",
       "      <th>2</th>\n",
       "      <td>2013-01-26 03:45:27</td>\n",
       "      <td>2013-02-05 05:36:53</td>\n",
       "      <td>10.0</td>\n",
       "    </tr>\n",
       "    <tr>\n",
       "      <th>3</th>\n",
       "      <td>2013-04-13 04:58:34</td>\n",
       "      <td>2013-04-14 07:02:04</td>\n",
       "      <td>1.0</td>\n",
       "    </tr>\n",
       "    <tr>\n",
       "      <th>4</th>\n",
       "      <td>NaT</td>\n",
       "      <td>NaT</td>\n",
       "      <td>25.0</td>\n",
       "    </tr>\n",
       "    <tr>\n",
       "      <th>...</th>\n",
       "      <td>...</td>\n",
       "      <td>...</td>\n",
       "      <td>...</td>\n",
       "    </tr>\n",
       "    <tr>\n",
       "      <th>11752</th>\n",
       "      <td>2013-09-21 04:06:00</td>\n",
       "      <td>2013-09-22 08:16:13</td>\n",
       "      <td>1.0</td>\n",
       "    </tr>\n",
       "    <tr>\n",
       "      <th>11753</th>\n",
       "      <td>2013-05-16 08:58:35</td>\n",
       "      <td>2013-05-18 07:59:30</td>\n",
       "      <td>1.0</td>\n",
       "    </tr>\n",
       "    <tr>\n",
       "      <th>11754</th>\n",
       "      <td>NaT</td>\n",
       "      <td>NaT</td>\n",
       "      <td>25.0</td>\n",
       "    </tr>\n",
       "    <tr>\n",
       "      <th>11755</th>\n",
       "      <td>2013-05-21 03:12:58</td>\n",
       "      <td>2013-05-22 09:04:20</td>\n",
       "      <td>1.0</td>\n",
       "    </tr>\n",
       "    <tr>\n",
       "      <th>11756</th>\n",
       "      <td>2014-01-10 06:49:02</td>\n",
       "      <td>2014-01-11 01:45:55</td>\n",
       "      <td>0.0</td>\n",
       "    </tr>\n",
       "  </tbody>\n",
       "</table>\n",
       "<p>11757 rows × 3 columns</p>\n",
       "</div>"
      ],
      "text/plain": [
       "                c_jail_in          c_jail_out  time_in_jail\n",
       "0     2013-08-13 06:03:42 2013-08-14 05:41:20           0.0\n",
       "1                     NaT                 NaT          25.0\n",
       "2     2013-01-26 03:45:27 2013-02-05 05:36:53          10.0\n",
       "3     2013-04-13 04:58:34 2013-04-14 07:02:04           1.0\n",
       "4                     NaT                 NaT          25.0\n",
       "...                   ...                 ...           ...\n",
       "11752 2013-09-21 04:06:00 2013-09-22 08:16:13           1.0\n",
       "11753 2013-05-16 08:58:35 2013-05-18 07:59:30           1.0\n",
       "11754                 NaT                 NaT          25.0\n",
       "11755 2013-05-21 03:12:58 2013-05-22 09:04:20           1.0\n",
       "11756 2014-01-10 06:49:02 2014-01-11 01:45:55           0.0\n",
       "\n",
       "[11757 rows x 3 columns]"
      ]
     },
     "execution_count": 174,
     "metadata": {},
     "output_type": "execute_result"
    }
   ],
   "source": [
    "#Let's assing the average number of days to the raws that have NaN values\n",
    "df_raw['time_in_jail'] = df_raw['time_in_jail'].fillna(mean_time_in_jail)\n",
    "df_raw[['c_jail_in', 'c_jail_out', 'time_in_jail']]"
   ]
  },
  {
   "cell_type": "code",
   "execution_count": 175,
   "metadata": {},
   "outputs": [],
   "source": [
    "df_raw = df_raw.drop(columns = ['c_jail_in', 'c_jail_out'])"
   ]
  },
  {
   "cell_type": "code",
   "execution_count": 176,
   "metadata": {},
   "outputs": [
    {
     "data": {
      "text/plain": [
       "sex                           0\n",
       "age                           0\n",
       "age_cat                       0\n",
       "race                          0\n",
       "juv_fel_count                 0\n",
       "decile_score                  0\n",
       "juv_misd_count                0\n",
       "juv_other_count               0\n",
       "priors_count                  0\n",
       "days_b_screening_arrest    1180\n",
       "c_offense_date             2600\n",
       "c_days_from_compas          742\n",
       "c_charge_degree               0\n",
       "c_charge_desc               749\n",
       "is_recid                      0\n",
       "time_in_jail                  0\n",
       "dtype: int64"
      ]
     },
     "execution_count": 176,
     "metadata": {},
     "output_type": "execute_result"
    }
   ],
   "source": [
    "#Let's check wether there are null values\n",
    "df_raw.isnull().sum()"
   ]
  },
  {
   "cell_type": "code",
   "execution_count": 177,
   "metadata": {},
   "outputs": [],
   "source": [
    "#c_charge_desc attribute is defined in Natural Language of the current charge, so it is difficult to make Deductive imputation.\n",
    "#Thus, we re going to drop rows with null values\n",
    "\n",
    "df_raw = df_raw.dropna(subset=['c_charge_desc'])"
   ]
  },
  {
   "cell_type": "code",
   "execution_count": 178,
   "metadata": {},
   "outputs": [],
   "source": [
    "df_raw = df_raw.drop(columns=['c_offense_date', 'days_b_screening_arrest', 'c_days_from_compas'])"
   ]
  },
  {
   "cell_type": "code",
   "execution_count": 179,
   "metadata": {},
   "outputs": [
    {
     "data": {
      "text/plain": [
       "sex                0\n",
       "age                0\n",
       "age_cat            0\n",
       "race               0\n",
       "juv_fel_count      0\n",
       "decile_score       0\n",
       "juv_misd_count     0\n",
       "juv_other_count    0\n",
       "priors_count       0\n",
       "c_charge_degree    0\n",
       "c_charge_desc      0\n",
       "is_recid           0\n",
       "time_in_jail       0\n",
       "dtype: int64"
      ]
     },
     "execution_count": 179,
     "metadata": {},
     "output_type": "execute_result"
    }
   ],
   "source": [
    "#Now we have no missing values in the dataset\n",
    "df_raw.isnull().sum()"
   ]
  },
  {
   "cell_type": "code",
   "execution_count": 180,
   "metadata": {},
   "outputs": [
    {
     "data": {
      "text/plain": [
       "array(['Aggravated Assault w/Firearm', 'Felony Battery w/Prior Convict',\n",
       "       'Possession of Cocaine', ..., 'Battery', 'arrest case no charge',\n",
       "       'Grand Theft in the 3rd Degree'], dtype=object)"
      ]
     },
     "execution_count": 180,
     "metadata": {},
     "output_type": "execute_result"
    }
   ],
   "source": [
    "#Casing smell on c_charge_desc attribute\n",
    "df_raw['c_charge_desc'].values"
   ]
  },
  {
   "cell_type": "code",
   "execution_count": 181,
   "metadata": {},
   "outputs": [
    {
     "data": {
      "text/plain": [
       "array(['aggravated assault w/firearm', 'felony battery w/prior convict',\n",
       "       'possession of cocaine', ..., 'battery', 'arrest case no charge',\n",
       "       'grand theft in the 3rd degree'], dtype=object)"
      ]
     },
     "execution_count": 181,
     "metadata": {},
     "output_type": "execute_result"
    }
   ],
   "source": [
    "df_raw['c_charge_desc'] = df_raw['c_charge_desc'].str.lower()\n",
    "df_raw['c_charge_desc'].values"
   ]
  },
  {
   "cell_type": "code",
   "execution_count": 182,
   "metadata": {},
   "outputs": [
    {
     "name": "stdout",
     "output_type": "stream",
     "text": [
      "<class 'pandas.core.frame.DataFrame'>\n",
      "Index: 11008 entries, 0 to 11756\n",
      "Data columns (total 13 columns):\n",
      " #   Column           Non-Null Count  Dtype  \n",
      "---  ------           --------------  -----  \n",
      " 0   sex              11008 non-null  object \n",
      " 1   age              11008 non-null  int64  \n",
      " 2   age_cat          11008 non-null  object \n",
      " 3   race             11008 non-null  object \n",
      " 4   juv_fel_count    11008 non-null  int64  \n",
      " 5   decile_score     11008 non-null  int64  \n",
      " 6   juv_misd_count   11008 non-null  int64  \n",
      " 7   juv_other_count  11008 non-null  int64  \n",
      " 8   priors_count     11008 non-null  int64  \n",
      " 9   c_charge_degree  11008 non-null  object \n",
      " 10  c_charge_desc    11008 non-null  object \n",
      " 11  is_recid         11008 non-null  int64  \n",
      " 12  time_in_jail     11008 non-null  float64\n",
      "dtypes: float64(1), int64(7), object(5)\n",
      "memory usage: 1.2+ MB\n"
     ]
    }
   ],
   "source": [
    "df_raw.info()"
   ]
  },
  {
   "cell_type": "code",
   "execution_count": 183,
   "metadata": {},
   "outputs": [
    {
     "data": {
      "text/html": [
       "<div>\n",
       "<style scoped>\n",
       "    .dataframe tbody tr th:only-of-type {\n",
       "        vertical-align: middle;\n",
       "    }\n",
       "\n",
       "    .dataframe tbody tr th {\n",
       "        vertical-align: top;\n",
       "    }\n",
       "\n",
       "    .dataframe thead th {\n",
       "        text-align: right;\n",
       "    }\n",
       "</style>\n",
       "<table border=\"1\" class=\"dataframe\">\n",
       "  <thead>\n",
       "    <tr style=\"text-align: right;\">\n",
       "      <th></th>\n",
       "      <th>age</th>\n",
       "      <th>juv_fel_count</th>\n",
       "      <th>decile_score</th>\n",
       "      <th>juv_misd_count</th>\n",
       "      <th>juv_other_count</th>\n",
       "      <th>priors_count</th>\n",
       "      <th>is_recid</th>\n",
       "      <th>time_in_jail</th>\n",
       "    </tr>\n",
       "  </thead>\n",
       "  <tbody>\n",
       "    <tr>\n",
       "      <th>0</th>\n",
       "      <td>69</td>\n",
       "      <td>0</td>\n",
       "      <td>1</td>\n",
       "      <td>0</td>\n",
       "      <td>0</td>\n",
       "      <td>0</td>\n",
       "      <td>0</td>\n",
       "      <td>0.0</td>\n",
       "    </tr>\n",
       "    <tr>\n",
       "      <th>2</th>\n",
       "      <td>34</td>\n",
       "      <td>0</td>\n",
       "      <td>3</td>\n",
       "      <td>0</td>\n",
       "      <td>0</td>\n",
       "      <td>0</td>\n",
       "      <td>1</td>\n",
       "      <td>10.0</td>\n",
       "    </tr>\n",
       "    <tr>\n",
       "      <th>3</th>\n",
       "      <td>24</td>\n",
       "      <td>0</td>\n",
       "      <td>4</td>\n",
       "      <td>0</td>\n",
       "      <td>1</td>\n",
       "      <td>4</td>\n",
       "      <td>1</td>\n",
       "      <td>1.0</td>\n",
       "    </tr>\n",
       "    <tr>\n",
       "      <th>4</th>\n",
       "      <td>23</td>\n",
       "      <td>0</td>\n",
       "      <td>8</td>\n",
       "      <td>1</td>\n",
       "      <td>0</td>\n",
       "      <td>1</td>\n",
       "      <td>0</td>\n",
       "      <td>25.0</td>\n",
       "    </tr>\n",
       "    <tr>\n",
       "      <th>5</th>\n",
       "      <td>43</td>\n",
       "      <td>0</td>\n",
       "      <td>1</td>\n",
       "      <td>0</td>\n",
       "      <td>0</td>\n",
       "      <td>2</td>\n",
       "      <td>0</td>\n",
       "      <td>25.0</td>\n",
       "    </tr>\n",
       "  </tbody>\n",
       "</table>\n",
       "</div>"
      ],
      "text/plain": [
       "   age  juv_fel_count  decile_score  juv_misd_count  juv_other_count  \\\n",
       "0   69              0             1               0                0   \n",
       "2   34              0             3               0                0   \n",
       "3   24              0             4               0                1   \n",
       "4   23              0             8               1                0   \n",
       "5   43              0             1               0                0   \n",
       "\n",
       "   priors_count  is_recid  time_in_jail  \n",
       "0             0         0           0.0  \n",
       "2             0         1          10.0  \n",
       "3             4         1           1.0  \n",
       "4             1         0          25.0  \n",
       "5             2         0          25.0  "
      ]
     },
     "execution_count": 183,
     "metadata": {},
     "output_type": "execute_result"
    }
   ],
   "source": [
    "numerical_cols = df_raw.select_dtypes(include=['float64', 'int64']).columns\n",
    "df_raw[numerical_cols].head()"
   ]
  },
  {
   "cell_type": "code",
   "execution_count": 184,
   "metadata": {},
   "outputs": [],
   "source": [
    "numerical_cols = df_raw.select_dtypes(include=['float64', 'int64']).columns\n",
    "numerical_cols = numerical_cols.drop('is_recid')\n",
    "\n",
    "# Inizializziamo lo StandardScaler\n",
    "scaler = MinMaxScaler()\n",
    "\n",
    "# Applichiamo lo scaler solo alle colonne numeriche\n",
    "df_raw[numerical_cols] = scaler.fit_transform(df_raw[numerical_cols])"
   ]
  },
  {
   "cell_type": "code",
   "execution_count": 185,
   "metadata": {},
   "outputs": [
    {
     "data": {
      "text/html": [
       "<div>\n",
       "<style scoped>\n",
       "    .dataframe tbody tr th:only-of-type {\n",
       "        vertical-align: middle;\n",
       "    }\n",
       "\n",
       "    .dataframe tbody tr th {\n",
       "        vertical-align: top;\n",
       "    }\n",
       "\n",
       "    .dataframe thead th {\n",
       "        text-align: right;\n",
       "    }\n",
       "</style>\n",
       "<table border=\"1\" class=\"dataframe\">\n",
       "  <thead>\n",
       "    <tr style=\"text-align: right;\">\n",
       "      <th></th>\n",
       "      <th>age</th>\n",
       "      <th>juv_fel_count</th>\n",
       "      <th>decile_score</th>\n",
       "      <th>juv_misd_count</th>\n",
       "      <th>juv_other_count</th>\n",
       "      <th>priors_count</th>\n",
       "      <th>time_in_jail</th>\n",
       "    </tr>\n",
       "  </thead>\n",
       "  <tbody>\n",
       "    <tr>\n",
       "      <th>0</th>\n",
       "      <td>0.653846</td>\n",
       "      <td>0.0</td>\n",
       "      <td>0.181818</td>\n",
       "      <td>0.000000</td>\n",
       "      <td>0.000000</td>\n",
       "      <td>0.000000</td>\n",
       "      <td>0.000464</td>\n",
       "    </tr>\n",
       "    <tr>\n",
       "      <th>2</th>\n",
       "      <td>0.205128</td>\n",
       "      <td>0.0</td>\n",
       "      <td>0.363636</td>\n",
       "      <td>0.000000</td>\n",
       "      <td>0.000000</td>\n",
       "      <td>0.000000</td>\n",
       "      <td>0.005109</td>\n",
       "    </tr>\n",
       "    <tr>\n",
       "      <th>3</th>\n",
       "      <td>0.076923</td>\n",
       "      <td>0.0</td>\n",
       "      <td>0.454545</td>\n",
       "      <td>0.000000</td>\n",
       "      <td>0.058824</td>\n",
       "      <td>0.093023</td>\n",
       "      <td>0.000929</td>\n",
       "    </tr>\n",
       "    <tr>\n",
       "      <th>4</th>\n",
       "      <td>0.064103</td>\n",
       "      <td>0.0</td>\n",
       "      <td>0.818182</td>\n",
       "      <td>0.076923</td>\n",
       "      <td>0.000000</td>\n",
       "      <td>0.023256</td>\n",
       "      <td>0.012076</td>\n",
       "    </tr>\n",
       "    <tr>\n",
       "      <th>5</th>\n",
       "      <td>0.320513</td>\n",
       "      <td>0.0</td>\n",
       "      <td>0.181818</td>\n",
       "      <td>0.000000</td>\n",
       "      <td>0.000000</td>\n",
       "      <td>0.046512</td>\n",
       "      <td>0.012076</td>\n",
       "    </tr>\n",
       "  </tbody>\n",
       "</table>\n",
       "</div>"
      ],
      "text/plain": [
       "        age  juv_fel_count  decile_score  juv_misd_count  juv_other_count  \\\n",
       "0  0.653846            0.0      0.181818        0.000000         0.000000   \n",
       "2  0.205128            0.0      0.363636        0.000000         0.000000   \n",
       "3  0.076923            0.0      0.454545        0.000000         0.058824   \n",
       "4  0.064103            0.0      0.818182        0.076923         0.000000   \n",
       "5  0.320513            0.0      0.181818        0.000000         0.000000   \n",
       "\n",
       "   priors_count  time_in_jail  \n",
       "0      0.000000      0.000464  \n",
       "2      0.000000      0.005109  \n",
       "3      0.093023      0.000929  \n",
       "4      0.023256      0.012076  \n",
       "5      0.046512      0.012076  "
      ]
     },
     "execution_count": 185,
     "metadata": {},
     "output_type": "execute_result"
    }
   ],
   "source": [
    "df_raw[numerical_cols].head()"
   ]
  },
  {
   "cell_type": "code",
   "execution_count": 186,
   "metadata": {},
   "outputs": [],
   "source": [
    "df_raw.to_csv(\"compas33.csv\", index=False)"
   ]
  },
  {
   "cell_type": "code",
   "execution_count": 187,
   "metadata": {},
   "outputs": [],
   "source": [
    "categorical_columns = [\"sex\", \"age_cat\", \"race\", \"c_charge_degree\",\"c_charge_desc\"]\n",
    "df_raw = pd.get_dummies(df_raw, columns=categorical_columns)"
   ]
  },
  {
   "cell_type": "code",
   "execution_count": 188,
   "metadata": {},
   "outputs": [
    {
     "name": "stdout",
     "output_type": "stream",
     "text": [
      "<class 'pandas.core.frame.DataFrame'>\n",
      "Index: 11008 entries, 0 to 11756\n",
      "Columns: 543 entries, age to c_charge_desc_workers compensation fraud\n",
      "dtypes: bool(535), float64(7), int64(1)\n",
      "memory usage: 6.4 MB\n"
     ]
    }
   ],
   "source": [
    "df_raw.info()"
   ]
  },
  {
   "cell_type": "code",
   "execution_count": 189,
   "metadata": {},
   "outputs": [
    {
     "data": {
      "text/plain": [
       "0    0\n",
       "2    1\n",
       "3    1\n",
       "4    0\n",
       "5    0\n",
       "Name: is_recid, dtype: int64"
      ]
     },
     "execution_count": 189,
     "metadata": {},
     "output_type": "execute_result"
    }
   ],
   "source": [
    "df_raw['is_recid'].head()"
   ]
  },
  {
   "cell_type": "code",
   "execution_count": 190,
   "metadata": {},
   "outputs": [],
   "source": [
    "X = df_raw.drop(columns=\"is_recid\")\n",
    "y = df_raw[\"is_recid\"]\n",
    "\n",
    "# Define four sets and apply the function\n",
    "X_train, X_test, y_train, y_test = train_test_split(X, y,\n",
    "                                                    test_size=0.2, # 0.2 indicates a test set size of 20%\n",
    "                                                    random_state=42)"
   ]
  },
  {
   "cell_type": "code",
   "execution_count": 191,
   "metadata": {},
   "outputs": [
    {
     "name": "stdout",
     "output_type": "stream",
     "text": [
      "Decision Tree Accuracy: 0.6316984559491371\n",
      "Decision Tree Recall: 0.42587601078167114\n",
      "Decision Tree F1 Score: 0.437976437976438\n"
     ]
    }
   ],
   "source": [
    "dt_clf = DecisionTreeClassifier(random_state=42)\n",
    "\n",
    "# The fit function will do the trick\n",
    "dt_clf.fit(X_train, y_train)\n",
    "\n",
    "# After the training phase, the model will be tested by predicting the values on the test set\n",
    "dt_predictions = dt_clf.predict(X_test)\n",
    "\n",
    "compute_performance_metrics(y_test,dt_predictions,\"Decision Tree\")"
   ]
  },
  {
   "cell_type": "code",
   "execution_count": 192,
   "metadata": {},
   "outputs": [
    {
     "name": "stdout",
     "output_type": "stream",
     "text": [
      "SVM Accuracy: 0.6807447774750227\n",
      "SVM Recall: 0.16307277628032346\n",
      "SVM F1 Score: 0.2560846560846561\n"
     ]
    }
   ],
   "source": [
    "svm_classifier = make_pipeline(SVC(kernel='linear'))\n",
    "\n",
    "# Addestra il classificatore sui dati di training\n",
    "svm_classifier.fit(X_train, y_train)\n",
    "\n",
    "# Fai delle predizioni sui dati di test\n",
    "svm_pred = svm_classifier.predict(X_test)\n",
    "\n",
    "compute_performance_metrics(y_test,svm_pred,\"SVM\")"
   ]
  },
  {
   "cell_type": "code",
   "execution_count": 193,
   "metadata": {},
   "outputs": [
    {
     "name": "stdout",
     "output_type": "stream",
     "text": [
      "Random Forest Accuracy: 0.687102633969119\n",
      "Random Forest Recall: 0.34097035040431267\n",
      "Random Forest F1 Score: 0.42343096234309624\n"
     ]
    }
   ],
   "source": [
    "rf_classifier = RandomForestClassifier(n_estimators=100, criterion='gini', max_depth = None, random_state=42)\n",
    "\n",
    "rf_classifier.fit(X_train, y_train)\n",
    "\n",
    "rf_predictions = rf_classifier.predict(X_test)\n",
    "\n",
    "compute_performance_metrics(y_test,rf_predictions,\"Random Forest\")"
   ]
  },
  {
   "cell_type": "code",
   "execution_count": 194,
   "metadata": {},
   "outputs": [],
   "source": [
    "#CALCOLO LE METRICHE DI FAIRNESS CONSIDERANDO COME MODELLO IL DECISION TREE\n",
    "dataset = X_test.copy(deep=True) # we create a copy of the test set\n",
    "dataset['is_recid'] = y_test  # and join the target feature with the others\n",
    "predictions = dataset.copy(deep=True) # we do the same task\n",
    "predictions['is_recid'] = dt_predictions # but this time the target feature is made by the predictions of our model\n",
    "\n",
    "race_privileged = \"race_Caucasian\"\n",
    "race_unprivileged = [\"race_African-American\", \"race_Asian\", \"race_Other\", \"race_Native American\", \"race_Hispanic\"]\n",
    "sex_privileged = \"sex_Female\"\n",
    "sex_unprivileged = [\"sex_Male\"]"
   ]
  },
  {
   "cell_type": "code",
   "execution_count": 195,
   "metadata": {},
   "outputs": [
    {
     "name": "stdout",
     "output_type": "stream",
     "text": [
      "Statistical Parity Difference (SPD): -0.109\n",
      "Average Odds Difference (AOD): -0.086\n",
      "Equal Opportunity Difference (EOD): -0.103\n"
     ]
    }
   ],
   "source": [
    "fairness_metrics = compute_classification_metric(dataset,predictions,\"is_recid\",0,1,sex_privileged,sex_unprivileged)\n",
    "compute_fairness_metrics(fairness_metrics)"
   ]
  },
  {
   "cell_type": "code",
   "execution_count": 196,
   "metadata": {},
   "outputs": [
    {
     "name": "stdout",
     "output_type": "stream",
     "text": [
      "Statistical Parity Difference (SPD): -0.069\n",
      "Average Odds Difference (AOD): -0.055\n",
      "Equal Opportunity Difference (EOD): -0.052\n"
     ]
    }
   ],
   "source": [
    "#Calcolo le metriche di fairness considerando l'attributo razza come attributo sensibile\n",
    "#Più precisamente, vengono calcolate considerando come:\n",
    "#Attributo privilegiato la colonna race_Native_American\n",
    "#Attributo non privilegiat la colonna race_african_American\n",
    "#Valore di label favorevole 0 e label non favorevole 1\n",
    "\n",
    "fairness_metrics = compute_classification_metric(dataset,predictions,\"is_recid\",0,1,race_privileged,race_unprivileged)\n",
    "compute_fairness_metrics(fairness_metrics)"
   ]
  },
  {
   "cell_type": "code",
   "execution_count": 197,
   "metadata": {},
   "outputs": [],
   "source": [
    "#CALCOLO LE METRICHE DI FAIRNESS CONSIDERANDO COME MODELLO L' SVM\n",
    "dataset = X_test.copy(deep=True)\n",
    "dataset['is_recid'] = y_test\n",
    "predictions = dataset.copy(deep=True) \n",
    "predictions['is_recid'] = svm_pred "
   ]
  },
  {
   "cell_type": "code",
   "execution_count": 198,
   "metadata": {},
   "outputs": [
    {
     "name": "stdout",
     "output_type": "stream",
     "text": [
      "Statistical Parity Difference (SPD): -0.065\n",
      "Average Odds Difference (AOD): -0.069\n",
      "Equal Opportunity Difference (EOD): -0.038\n"
     ]
    }
   ],
   "source": [
    "fairness_metrics = compute_classification_metric(dataset,predictions,\"is_recid\",0,1,sex_privileged,sex_unprivileged)\n",
    "compute_fairness_metrics(fairness_metrics)"
   ]
  },
  {
   "cell_type": "code",
   "execution_count": 199,
   "metadata": {},
   "outputs": [
    {
     "name": "stdout",
     "output_type": "stream",
     "text": [
      "Statistical Parity Difference (SPD): -0.076\n",
      "Average Odds Difference (AOD): -0.077\n",
      "Equal Opportunity Difference (EOD): -0.049\n"
     ]
    }
   ],
   "source": [
    "fairness_metrics = compute_classification_metric(dataset,predictions,\"is_recid\",0,1,race_privileged,race_unprivileged)\n",
    "compute_fairness_metrics(fairness_metrics)"
   ]
  },
  {
   "cell_type": "code",
   "execution_count": 200,
   "metadata": {},
   "outputs": [],
   "source": [
    "#CALCOLO LE METRICHE DI FAIRNESS CONSIDERANDO COME MODELLO Il Random Forest\n",
    "dataset = X_test.copy(deep=True)\n",
    "dataset['is_recid'] = y_test\n",
    "predictions = dataset.copy(deep=True) \n",
    "predictions['is_recid'] = rf_predictions "
   ]
  },
  {
   "cell_type": "code",
   "execution_count": 201,
   "metadata": {},
   "outputs": [
    {
     "name": "stdout",
     "output_type": "stream",
     "text": [
      "Statistical Parity Difference (SPD): -0.116\n",
      "Average Odds Difference (AOD): -0.119\n",
      "Equal Opportunity Difference (EOD): -0.068\n"
     ]
    }
   ],
   "source": [
    "fairness_metrics = compute_classification_metric(dataset,predictions,\"is_recid\",0,1,sex_privileged,sex_unprivileged)\n",
    "compute_fairness_metrics(fairness_metrics)"
   ]
  },
  {
   "cell_type": "code",
   "execution_count": 202,
   "metadata": {},
   "outputs": [
    {
     "name": "stdout",
     "output_type": "stream",
     "text": [
      "Statistical Parity Difference (SPD): -0.12\n",
      "Average Odds Difference (AOD): -0.113\n",
      "Equal Opportunity Difference (EOD): -0.082\n"
     ]
    }
   ],
   "source": [
    "fairness_metrics = compute_classification_metric(dataset,predictions,\"is_recid\",0,1,race_privileged,race_unprivileged)\n",
    "compute_fairness_metrics(fairness_metrics)"
   ]
  }
 ],
 "metadata": {
  "kernelspec": {
   "display_name": "se4faiEnv",
   "language": "python",
   "name": "python3"
  },
  "language_info": {
   "codemirror_mode": {
    "name": "ipython",
    "version": 3
   },
   "file_extension": ".py",
   "mimetype": "text/x-python",
   "name": "python",
   "nbconvert_exporter": "python",
   "pygments_lexer": "ipython3",
   "version": "3.10.14"
  }
 },
 "nbformat": 4,
 "nbformat_minor": 2
}
